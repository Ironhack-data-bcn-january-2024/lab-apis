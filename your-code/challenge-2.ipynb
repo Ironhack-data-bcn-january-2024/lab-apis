{
 "cells": [
  {
   "cell_type": "markdown",
   "id": "00dfecb2",
   "metadata": {},
   "source": [
    "![Flos Mariae](https://e00-elmundo.uecdn.es/assets/multimedia/imagenes/2023/03/07/16781451615938.jpg)"
   ]
  },
  {
   "cell_type": "markdown",
   "id": "04e5b3f8",
   "metadata": {},
   "source": [
    "Some catholic pop to get into the mood: [Flos Mariae - Amén](https://www.youtube.com/watch?v=viQOBLF3AcY&themeRefresh=1)"
   ]
  },
  {
   "cell_type": "markdown",
   "id": "928711fd",
   "metadata": {},
   "source": [
    "The girls in Flos Mariae need your help. Their study sheets are incomplete and teachers told them to `google it` when they asked about verses. Help them complete their data. "
   ]
  },
  {
   "cell_type": "markdown",
   "id": "259c3d31",
   "metadata": {},
   "source": [
    "[Bible API](https://github.com/seven1m/bible_api)"
   ]
  },
  {
   "cell_type": "markdown",
   "id": "822517ff",
   "metadata": {},
   "source": [
    "[Bible documentation](https://bible-api.com/)"
   ]
  },
  {
   "cell_type": "markdown",
   "id": "b25842d6",
   "metadata": {},
   "source": [
    "# Import the necessary libraries: pandas & requests"
   ]
  },
  {
   "cell_type": "code",
   "execution_count": 17,
   "id": "215eb6bc",
   "metadata": {},
   "outputs": [],
   "source": [
    "# Your code here"
   ]
  },
  {
   "cell_type": "markdown",
   "id": "dc555f58",
   "metadata": {},
   "source": [
    "# Load the bible.csv file on `data/` folder"
   ]
  },
  {
   "cell_type": "markdown",
   "id": "57834374",
   "metadata": {},
   "source": [
    "These are the incomplete study sheets of the Flos Mariae sisters. 👀 They know the references they need (book, chapter and verse) but lack the text information."
   ]
  },
  {
   "cell_type": "code",
   "execution_count": 5,
   "id": "6ba76753",
   "metadata": {},
   "outputs": [],
   "source": [
    "# Your code here"
   ]
  },
  {
   "cell_type": "markdown",
   "id": "d78dd2c2",
   "metadata": {},
   "source": [
    "# Go on to this website: [Bible API documentation](https://bible-api.com/). Read the usage and given examples."
   ]
  },
  {
   "cell_type": "markdown",
   "id": "679830f3",
   "metadata": {},
   "source": [
    "## Build the `url_for_request` for a single reference: book, chapter and verse. This will be the result of: reading the API documentation 🙃. "
   ]
  },
  {
   "cell_type": "markdown",
   "id": "20098873",
   "metadata": {},
   "source": [
    "Hint: there's a `base_url` to which you need to add another `endpoint`. Call the resulting string `url_for_request`"
   ]
  },
  {
   "cell_type": "code",
   "execution_count": 34,
   "id": "8ab21dfb",
   "metadata": {},
   "outputs": [],
   "source": [
    "# Your code here"
   ]
  },
  {
   "cell_type": "markdown",
   "id": "d3fb564c",
   "metadata": {},
   "source": [
    "# Great! 💥 We have some information. Now, we want to clean it up to get only the text that corresponds to the reference we are looking for."
   ]
  },
  {
   "cell_type": "code",
   "execution_count": 7,
   "id": "5ac1bcd2",
   "metadata": {},
   "outputs": [],
   "source": [
    "# Your code here"
   ]
  },
  {
   "cell_type": "markdown",
   "id": "a283a243",
   "metadata": {},
   "source": [
    "# Now we want to obtain the information of all the necessary references in the study sheets."
   ]
  },
  {
   "cell_type": "markdown",
   "id": "df0e9c9e",
   "metadata": {},
   "source": [
    "Hint: book, chapter and verse `actual columns` will be the `argument` to pass to the endpoint of the url_for_request. The `text results` from the API call, will be a `new column` of the dataframe."
   ]
  },
  {
   "cell_type": "code",
   "execution_count": 6,
   "id": "b3a9a0f0",
   "metadata": {},
   "outputs": [],
   "source": [
    "# Your code here"
   ]
  },
  {
   "cell_type": "markdown",
   "id": "10600acf",
   "metadata": {},
   "source": [
    "# Save the dataframe into the data folder. "
   ]
  },
  {
   "cell_type": "markdown",
   "id": "2b334e3d",
   "metadata": {},
   "source": [
    "Make sure you don't get that unnamed: 0 column. Hint: https://stackoverflow.com/questions/36519086/how-to-get-rid-of-unnamed-0-column-in-a-pandas-dataframe-read-in-from-csv-fil"
   ]
  },
  {
   "cell_type": "code",
   "execution_count": null,
   "id": "556829be",
   "metadata": {},
   "outputs": [],
   "source": [
    "# Your code here"
   ]
  }
 ],
 "metadata": {
  "kernelspec": {
   "display_name": "ironhack",
   "language": "python",
   "name": "ironhack"
  },
  "language_info": {
   "codemirror_mode": {
    "name": "ipython",
    "version": 3
   },
   "file_extension": ".py",
   "mimetype": "text/x-python",
   "name": "python",
   "nbconvert_exporter": "python",
   "pygments_lexer": "ipython3",
   "version": "3.11.5"
  },
  "nbTranslate": {
   "displayLangs": [
    "en",
    "es"
   ],
   "hotkey": "alt-a",
   "langInMainMenu": true,
   "sourceLang": "es",
   "targetLang": "en",
   "useGoogleTranslate": true
  },
  "toc": {
   "base_numbering": 1,
   "nav_menu": {},
   "number_sections": true,
   "sideBar": true,
   "skip_h1_title": false,
   "title_cell": "Table of Contents",
   "title_sidebar": "Contents",
   "toc_cell": false,
   "toc_position": {},
   "toc_section_display": true,
   "toc_window_display": false
  }
 },
 "nbformat": 4,
 "nbformat_minor": 5
}
