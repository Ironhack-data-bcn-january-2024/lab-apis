{
 "cells": [
  {
   "cell_type": "markdown",
   "id": "b25842d6",
   "metadata": {},
   "source": [
    "# Import the necessary libraries: pandas, requests & getpass."
   ]
  },
  {
   "cell_type": "code",
   "execution_count": null,
   "id": "215eb6bc",
   "metadata": {},
   "outputs": [],
   "source": []
  },
  {
   "cell_type": "markdown",
   "id": "07845a2a",
   "metadata": {},
   "source": [
    "# Go on to this website: [Tomorrow API documentation - Weather Forecast](https://docs.tomorrow.io/reference/weather-forecast). Read the documentation and the usage. 🙃"
   ]
  },
  {
   "cell_type": "markdown",
   "id": "9531d908",
   "metadata": {},
   "source": [
    "Be aware of API request limits.  ⚠️ "
   ]
  },
  {
   "cell_type": "markdown",
   "id": "2fba017f",
   "metadata": {},
   "source": [
    "![image2](../image2.png)"
   ]
  },
  {
   "cell_type": "markdown",
   "id": "aaa6cbf4",
   "metadata": {},
   "source": [
    "#  After exploring how the API works. Generate a token and store it in a `'token'` variable using getpass. 🔐"
   ]
  },
  {
   "cell_type": "code",
   "execution_count": null,
   "id": "7ea8624f",
   "metadata": {},
   "outputs": [],
   "source": [
    "# Your code here"
   ]
  },
  {
   "cell_type": "markdown",
   "id": "a4df9b4a",
   "metadata": {},
   "source": [
    "# Now, choose the location where you want to browse the Weather Forecast and store it in a variable called ``location``. 📍"
   ]
  },
  {
   "cell_type": "code",
   "execution_count": null,
   "id": "968e4e9c",
   "metadata": {},
   "outputs": [],
   "source": [
    "# Your code here"
   ]
  },
  {
   "cell_type": "markdown",
   "id": "ef89e4cf",
   "metadata": {},
   "source": [
    "# The next step is to build the `url_for_request`.  You must parameterise it with your `location` and your `token`. "
   ]
  },
  {
   "cell_type": "code",
   "execution_count": null,
   "id": "bdc7c366",
   "metadata": {},
   "outputs": [],
   "source": [
    "# Your code here"
   ]
  },
  {
   "cell_type": "markdown",
   "id": "d93a6c92",
   "metadata": {},
   "source": [
    "# It's time to call the API. 📞 We need to get the `Weather Forecast` information for the chosen location."
   ]
  },
  {
   "cell_type": "code",
   "execution_count": null,
   "id": "8355e9e6",
   "metadata": {},
   "outputs": [],
   "source": [
    "# Your code here"
   ]
  },
  {
   "cell_type": "markdown",
   "id": "59aaceb4",
   "metadata": {},
   "source": [
    "# Last step will be to turn it into a Dataframe! 🐼"
   ]
  },
  {
   "cell_type": "markdown",
   "id": "d99fe0fd",
   "metadata": {},
   "source": [
    "The result should look like this:"
   ]
  },
  {
   "cell_type": "markdown",
   "id": "890689e1",
   "metadata": {},
   "source": [
    "![image3](../image3.png)"
   ]
  },
  {
   "cell_type": "code",
   "execution_count": null,
   "id": "788c6d98",
   "metadata": {},
   "outputs": [],
   "source": [
    "# Your code here"
   ]
  },
  {
   "cell_type": "markdown",
   "id": "d3fb564c",
   "metadata": {},
   "source": [
    "# Save the dataframe into the data folder. "
   ]
  },
  {
   "cell_type": "markdown",
   "id": "2b334e3d",
   "metadata": {},
   "source": [
    "Make sure you don't get that unnamed: 0 column. Hint: https://stackoverflow.com/questions/36519086/how-to-get-rid-of-unnamed-0-column-in-a-pandas-dataframe-read-in-from-csv-fil"
   ]
  },
  {
   "cell_type": "code",
   "execution_count": 1,
   "id": "ca21a372",
   "metadata": {},
   "outputs": [],
   "source": [
    "# Your code here"
   ]
  }
 ],
 "metadata": {
  "kernelspec": {
   "display_name": "ironhack",
   "language": "python",
   "name": "ironhack"
  },
  "language_info": {
   "codemirror_mode": {
    "name": "ipython",
    "version": 3
   },
   "file_extension": ".py",
   "mimetype": "text/x-python",
   "name": "python",
   "nbconvert_exporter": "python",
   "pygments_lexer": "ipython3",
   "version": "3.11.5"
  },
  "nbTranslate": {
   "displayLangs": [
    "en",
    "es"
   ],
   "hotkey": "alt-a",
   "langInMainMenu": true,
   "sourceLang": "es",
   "targetLang": "en",
   "useGoogleTranslate": true
  },
  "toc": {
   "base_numbering": 1,
   "nav_menu": {},
   "number_sections": true,
   "sideBar": true,
   "skip_h1_title": false,
   "title_cell": "Table of Contents",
   "title_sidebar": "Contents",
   "toc_cell": false,
   "toc_position": {},
   "toc_section_display": true,
   "toc_window_display": false
  }
 },
 "nbformat": 4,
 "nbformat_minor": 5
}
